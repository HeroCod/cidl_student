{
 "cells": [
  {
   "cell_type": "code",
   "execution_count": 1,
   "metadata": {},
   "outputs": [],
   "source": [
    "import torch\n",
    "import torchvision\n",
    "\n",
    "\n",
    "train_mnist = torchvision.datasets.MNIST(\n",
    "    \"./data\",\n",
    "    train=True,\n",
    "    download=True,\n",
    "    transform=torchvision.transforms.Compose([\n",
    "        torchvision.transforms.ToTensor(),\n",
    "        torchvision.transforms.Normalize((0.1307,), (0.3081,))\n",
    "    ])\n",
    ")\n",
    "\n",
    "test_mnist = torchvision.datasets.MNIST(\n",
    "    \"./data\",\n",
    "    train=False,\n",
    "    download=True,\n",
    "    transform=torchvision.transforms.Compose([\n",
    "        torchvision.transforms.ToTensor(),\n",
    "        torchvision.transforms.Normalize((0.1307,), (0.3081,))\n",
    "    ])\n",
    ")\n"
   ]
  },
  {
   "cell_type": "code",
   "execution_count": 2,
   "metadata": {},
   "outputs": [
    {
     "name": "stdout",
     "output_type": "stream",
     "text": [
      "torch.Size([1, 10])\n"
     ]
    }
   ],
   "source": [
    "model = torch.nn.Sequential(\n",
    "    torch.nn.Linear(28 * 28, 300),\n",
    "    torch.nn.LeakyReLU(),\n",
    "    torch.nn.Linear(300, 300),\n",
    "    torch.nn.LeakyReLU(),\n",
    "    torch.nn.Linear(300, 10),\n",
    ")\n",
    "\n",
    "\n",
    "for digit, cls in train_mnist:\n",
    "    digit = digit.view(digit.shape[0], 28 * 28)\n",
    "    print(model(digit).shape)\n",
    "    break"
   ]
  },
  {
   "cell_type": "code",
   "execution_count": 3,
   "metadata": {},
   "outputs": [
    {
     "name": "stderr",
     "output_type": "stream",
     "text": [
      "Loss: 0.1753, Accuracy: 0.9375: 100%|██████████| 1875/1875 [00:18<00:00, 100.71it/s]\n",
      "Loss: 0.1332, Accuracy: 0.9375: 100%|██████████| 1875/1875 [00:18<00:00, 103.82it/s]\n",
      "Loss: 0.0150, Accuracy: 1.0000: 100%|██████████| 1875/1875 [00:15<00:00, 118.27it/s]\n"
     ]
    }
   ],
   "source": [
    "from tqdm import tqdm\n",
    "\n",
    "dl = torch.utils.data.DataLoader(train_mnist, batch_size=32, shuffle=True)\n",
    "loss_fn = torch.nn.CrossEntropyLoss()\n",
    "optimizer = torch.optim.Adam(model.parameters(), lr=0.001)\n",
    "\n",
    "for epoch in range(3):\n",
    "    bar = tqdm(dl)\n",
    "    for digit, cls in bar:\n",
    "        digit = digit.view(digit.shape[0], 28 * 28)\n",
    "        pred = model(digit)\n",
    "\n",
    "        loss = loss_fn(pred, cls)\n",
    "        accuracy = (pred.argmax(dim=1) == cls).float().mean()\n",
    "        bar.set_description(f\"Loss: {loss.item():.4f}, Accuracy: {accuracy.item():.4f}\")\n",
    "\n",
    "        optimizer.zero_grad()\n",
    "        loss.backward()\n",
    "        optimizer.step()"
   ]
  },
  {
   "cell_type": "code",
   "execution_count": 4,
   "metadata": {},
   "outputs": [
    {
     "name": "stderr",
     "output_type": "stream",
     "text": [
      "100%|██████████| 313/313 [00:01<00:00, 244.99it/s]\n"
     ]
    }
   ],
   "source": [
    "dl = torch.utils.data.DataLoader(test_mnist, batch_size=32, shuffle=True)\n",
    "\n",
    "bar = tqdm(dl)\n",
    "\n",
    "preds = []\n",
    "target = []\n",
    "for digit, cls in bar:\n",
    "    digit = digit.view(digit.shape[0], 28 * 28)\n",
    "    pred = model(digit)\n",
    "\n",
    "    preds.append(pred)\n",
    "    target.append(cls)\n"
   ]
  },
  {
   "cell_type": "code",
   "execution_count": 5,
   "metadata": {},
   "outputs": [
    {
     "data": {
      "text/plain": [
       "tensor(0.9752)"
      ]
     },
     "execution_count": 5,
     "metadata": {},
     "output_type": "execute_result"
    }
   ],
   "source": [
    "p = torch.concatenate(preds)\n",
    "t = torch.concatenate(target)\n",
    "\n",
    "\n",
    "(p.argmax(dim=1) == t).float().mean()"
   ]
  }
 ],
 "metadata": {
  "kernelspec": {
   "display_name": "base",
   "language": "python",
   "name": "python3"
  },
  "language_info": {
   "codemirror_mode": {
    "name": "ipython",
    "version": 3
   },
   "file_extension": ".py",
   "mimetype": "text/x-python",
   "name": "python",
   "nbconvert_exporter": "python",
   "pygments_lexer": "ipython3",
   "version": "3.12.7"
  },
  "orig_nbformat": 4
 },
 "nbformat": 4,
 "nbformat_minor": 2
}
