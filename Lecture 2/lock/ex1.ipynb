{
 "cells": [
  {
   "cell_type": "code",
   "execution_count": null,
   "metadata": {},
   "outputs": [],
   "source": [
    "import torch\n",
    "\n",
    "class PointDataset(torch.utils.data.Dataset):\n",
    "    def __init__(self, filename):\n",
    "        self.data = []\n",
    "        \n",
    "        with open(filename, 'r') as f:\n",
    "            for line in f:\n",
    "                x, y = line.split(\" \")\n",
    "                x, y = float(x), float(y)\n",
    "                self.data.append((x, y))\n",
    "    \n",
    "    def __len__(self):\n",
    "        return len(self.data)\n",
    "    \n",
    "    def __getitem__(self, idx):\n",
    "        return self.data[idx]\n",
    "\n",
    "\n",
    "ds = PointDataset(\"../dataset1.txt\")"
   ]
  },
  {
   "cell_type": "code",
   "execution_count": null,
   "metadata": {},
   "outputs": [],
   "source": [
    "class LineModule(torch.nn.Module):\n",
    "    def __init__(self):\n",
    "        super().__init__()\n",
    "        self.w = torch.nn.Parameter(torch.rand(1))\n",
    "    \n",
    "    def forward(self, x):\n",
    "        return self.w * x\n",
    "    \n",
    "\n",
    "model = LineModule()\n",
    "print(list(model.parameters()))\n",
    "print(model(torch.tensor([2.0])))"
   ]
  },
  {
   "cell_type": "code",
   "execution_count": null,
   "metadata": {},
   "outputs": [],
   "source": [
    "from tqdm import trange\n",
    "\n",
    "ds = PointDataset(\"dataset1.txt\")\n",
    "model = LineModule()\n",
    "dl = torch.utils.data.DataLoader(ds, batch_size=8)\n",
    "\n",
    "optimizer = torch.optim.SGD(model.parameters(), lr=0.001)\n",
    "loss_fn = torch.nn.MSELoss()\n",
    "\n",
    "for epoch in trange(1000):\n",
    "    for batch in dl:\n",
    "        x, y = batch\n",
    "        y_pred = model(x)\n",
    "        loss = loss_fn(y_pred, y)\n",
    "        optimizer.zero_grad()\n",
    "        loss.backward()\n",
    "        optimizer.step()"
   ]
  },
  {
   "cell_type": "code",
   "execution_count": null,
   "metadata": {},
   "outputs": [],
   "source": [
    "print(model.w)"
   ]
  },
  {
   "cell_type": "code",
   "execution_count": null,
   "metadata": {},
   "outputs": [],
   "source": [
    "data = torch.stack([torch.tensor(i) for i in ds.data])\n",
    "\n",
    "ww = torch.arange(-10, 10, step=.1)\n",
    "\n",
    "errors = []\n",
    "for w in ww:\n",
    "    preds = w*data[:, 0]\n",
    "    error = loss_fn(preds, data[:, 1])\n",
    "    errors.append(error)\n"
   ]
  },
  {
   "cell_type": "code",
   "execution_count": null,
   "metadata": {},
   "outputs": [],
   "source": [
    "from matplotlib import pyplot as plt\n",
    "\n",
    "\n",
    "plt.plot(ww, errors)"
   ]
  },
  {
   "cell_type": "code",
   "execution_count": null,
   "metadata": {},
   "outputs": [],
   "source": [
    "from matplotlib import pyplot as plt\n",
    "\n",
    "xx = torch.arange(-10, 10, step=0.1)\n",
    "plt.scatter(data[:, 0], data[:, 1])\n",
    "\n",
    "plt.plot(xx, model(xx).detach().numpy())"
   ]
  }
 ],
 "metadata": {
  "kernelspec": {
   "display_name": ".venv",
   "language": "python",
   "name": "python3"
  },
  "language_info": {
   "codemirror_mode": {
    "name": "ipython",
    "version": 3
   },
   "file_extension": ".py",
   "mimetype": "text/x-python",
   "name": "python",
   "nbconvert_exporter": "python",
   "pygments_lexer": "ipython3",
   "version": "3.12.3"
  },
  "orig_nbformat": 4
 },
 "nbformat": 4,
 "nbformat_minor": 2
}
