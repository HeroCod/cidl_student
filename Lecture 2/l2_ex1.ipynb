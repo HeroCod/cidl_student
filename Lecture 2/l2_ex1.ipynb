{
 "cells": [
  {
   "cell_type": "code",
   "execution_count": null,
   "metadata": {},
   "outputs": [
    {
     "name": "stdout",
     "output_type": "stream",
     "text": [
      "50\n",
      "2.190182077823536 6.24970978934776\n",
      "\n"
     ]
    }
   ],
   "source": [
    "# Initially write the imports for the dataset\n",
    "import os\n",
    "import torch\n",
    "import csv\n",
    "\n",
    "\n",
    "class PointsDataset:\n",
    "    def __init__(self,location):\n",
    "        self.dataset = []\n",
    "        with open(location, \"r\") as file:\n",
    "            while(file.readline()!=''):\n",
    "                self.dataset.append(file.readline())\n",
    "        return       \n",
    "    \n",
    "    def __len__(self):\n",
    "        return len(self.dataset)\n",
    "\n",
    "    def __getitem__(self, i):\n",
    "        return self.dataset[i]\n",
    "\n",
    "ds = PointsDataset(\"dataset1.txt\")\n",
    "print(ds.__len__())\n",
    "print(ds.__getitem__(1))\n"
   ]
  },
  {
   "cell_type": "code",
   "execution_count": 25,
   "metadata": {},
   "outputs": [
    {
     "name": "stdout",
     "output_type": "stream",
     "text": [
      "[Parameter containing:\n",
      "tensor([0.1831], requires_grad=True)]\n",
      "tensor([0.3662], grad_fn=<MulBackward0>)\n"
     ]
    }
   ],
   "source": [
    "import torch\n",
    "\n",
    "class LineModule(torch.nn.Module):\n",
    "\n",
    "    def __init__(self):\n",
    "        super().__init__()\n",
    "        self.w = torch.nn.Parameter(torch.rand(1))\n",
    "        \n",
    "    \n",
    "\n",
    "    def forward(self, input):\n",
    "        return self.w * input\n",
    "    \n",
    "model = LineModule()\n",
    "print(list(model.parameters()))\n",
    "print(model(torch.tensor([2.0])))\n"
   ]
  },
  {
   "cell_type": "code",
   "execution_count": null,
   "metadata": {},
   "outputs": [],
   "source": []
  }
 ],
 "metadata": {
  "kernelspec": {
   "display_name": "base",
   "language": "python",
   "name": "python3"
  },
  "language_info": {
   "codemirror_mode": {
    "name": "ipython",
    "version": 3
   },
   "file_extension": ".py",
   "mimetype": "text/x-python",
   "name": "python",
   "nbconvert_exporter": "python",
   "pygments_lexer": "ipython3",
   "version": "3.12.7"
  }
 },
 "nbformat": 4,
 "nbformat_minor": 2
}
