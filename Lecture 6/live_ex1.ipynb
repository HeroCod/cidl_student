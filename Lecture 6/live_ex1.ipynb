{
 "cells": [
  {
   "cell_type": "code",
   "execution_count": null,
   "metadata": {},
   "outputs": [],
   "source": [
    "import torch\n",
    "import torchvision\n",
    "\n"
   ]
  },
  {
   "cell_type": "code",
   "execution_count": null,
   "metadata": {},
   "outputs": [],
   "source": [
    "\n",
    "import torch\n",
    "from \n",
    "\n",
    "class VQVAE(torch.nn.module):\n",
    "    def __init__(self, input_dim, n_vectors, codebook_dim, vectors_dim = 28):\n",
    "        super(VQVAE, self).__init__()\n",
    "        self.vector_dim = vectors_dim\n",
    "        self.n_vectors = n_vectors\n",
    "        self.codebook_dim = codebook_dim\n",
    "\n",
    "        self.encoder = torch.nn.Sequential(\n",
    "            torch.nn.Linear(input_dim, 300),\n",
    "            torch.nn.LeakyReLU(),\n",
    "            torch.nn.Linear(300, vectors_dim * n_vectors),\n",
    "        )\n",
    "\n",
    "        self.decoder = torch.nn.Sequential(\n",
    "            torch.nn.Linear(vectors_dim*n_vectors, 300),\n",
    "            torch.nn.LeakyReLU(),\n",
    "            torch.nn.Linear(300, input_dim),\n",
    "        )\n",
    "\n",
    "        self.codebook = torch.nn.Parameter(torch.randn(codebook_dim, vectors_dim))\n",
    "\n",
    "\n",
    "    # takes as input a: [B, 1, 28, 28]\n",
    "    # outputs: [B, n_vectors, vectors_dim]\n",
    "\n",
    "    def encode(self, x):\n",
    "        x = x.reshape(x.shape[0], 28*28)\n",
    "        flat_vectors = self.encoder(x)\n",
    "        return flat_vectors.reshape(x.shape[0], self.n_vectors, self.vector_dim)\n",
    "\n",
    "    # takes as input a: [B, n_vectors, vectors_dim]\n",
    "    # outputs: [B, 1, 28, 28]\n",
    "\n",
    "    def decode(self, x):\n",
    "        x = x.reshape(x.shape[0], self.vector_dim * self.n_vectors)\n",
    "        return self.decoder(x).reshape(x.shape[0], 1, 28, 28)\n",
    "\n",
    "dl = torch.utils.data.DataLoader(train_mnist)\n",
    "batch_x, _ = next(iter(dl))\n",
    "\n",
    "vqvae = VQVAE(8,4,16)\n",
    "enc = vqvae.encode(batch_x)\n",
    "dec = vqvae.decode(batch_x)\n"
   ]
  },
  {
   "cell_type": "code",
   "execution_count": null,
   "metadata": {},
   "outputs": [],
   "source": []
  }
 ],
 "metadata": {
  "kernelspec": {
   "display_name": "base",
   "language": "python",
   "name": "python3"
  },
  "language_info": {
   "codemirror_mode": {
    "name": "ipython",
    "version": 3
   },
   "file_extension": ".py",
   "mimetype": "text/x-python",
   "name": "python",
   "nbconvert_exporter": "python",
   "pygments_lexer": "ipython3",
   "version": "3.12.2"
  }
 },
 "nbformat": 4,
 "nbformat_minor": 2
}
